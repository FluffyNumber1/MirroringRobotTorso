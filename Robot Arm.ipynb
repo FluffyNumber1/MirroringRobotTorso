{
 "cells": [
  {
   "cell_type": "code",
   "execution_count": 4,
   "id": "f7af97c9-3dc2-41b7-837a-ac2705ca6567",
   "metadata": {},
   "outputs": [
    {
     "name": "stderr",
     "output_type": "stream",
     "text": [
      "ERROR: Could not find a version that satisfies the requirement cv2 (from versions: none)\n",
      "ERROR: No matching distribution found for cv2\n"
     ]
    }
   ],
   "source": [
    "import cv2#imports openCV into notebook\n",
    "import mediapipe as mp#imports MediaPipe\n",
    "import numpy as np#imports Numpy\n",
    "mp_drawing = mp.solutions.drawing_utils#Gives the drawing utilities\n",
    "mp_pose = mp.solutions.pose#imports pose estimation models from mediapipe from a range of models for face and other parts"
   ]
  },
  {
   "cell_type": "code",
   "execution_count": 7,
   "id": "44805388-76bf-41e5-9339-de4b7d27e9b1",
   "metadata": {},
   "outputs": [],
   "source": [
    "def calculate_angle(a,b,c):\n",
    "    a=np.array(a) #First\n",
    "    b=np.array(b) #Mid\n",
    "    c=np.array(c) #End\n",
    "    #makes it easier to calculate angles and make it numpy arrays\n",
    "    \n",
    "    radians = np.arctan2(c[1]-b[1], c[0]-b[0])-np.arctan2(a[1]-b[1], a[0]-b[0])\n",
    "    angle = np.abs(radians*180.0/np.pi)\n",
    "    #Calculates the radians for a particular angle\n",
    "    \n",
    "    if(angle>180.0):\n",
    "        angle =360-angle\n",
    "    #convert angle between zero and 180\n",
    "        \n",
    "    return angle"
   ]
  },
  {
   "cell_type": "code",
   "execution_count": 20,
   "id": "cba1c454-f18d-4da3-9fe4-9034b633ade3",
   "metadata": {},
   "outputs": [],
   "source": [
    "mp_drawing = mp.solutions.drawing_utils\n",
    "mp_pose = mp.solutions.pose\n",
    "\n",
    "# Define connections for the robot-mirroring arm (shoulder-elbow, elbow-wrist)\n",
    "CONNECTIONS = [\n",
    "    (mp_pose.PoseLandmark.RIGHT_SHOULDER, mp_pose.PoseLandmark.RIGHT_ELBOW),\n",
    "    (mp_pose.PoseLandmark.RIGHT_ELBOW, mp_pose.PoseLandmark.RIGHT_WRIST),\n",
    "    (mp_pose.PoseLandmark.RIGHT_SHOULDER, mp_pose.PoseLandmark.RIGHT_HIP),\n",
    "    (mp_pose.PoseLandmark.LEFT_SHOULDER, mp_pose.PoseLandmark.RIGHT_SHOULDER),  # Across shoulders\n",
    "    (mp_pose.PoseLandmark.LEFT_HIP, mp_pose.PoseLandmark.RIGHT_HIP),  # Across hips\n",
    "    (mp_pose.PoseLandmark.LEFT_SHOULDER, mp_pose.PoseLandmark.LEFT_HIP),\n",
    "]\n",
    "\n",
    "\n",
    "cap = cv2.VideoCapture(0)\n",
    "with mp_pose.Pose(min_detection_confidence=0.5, min_tracking_confidence=0.5) as pose:\n",
    "    while cap.isOpened():\n",
    "        ret, frame = cap.read()\n",
    "        \n",
    "        # Recolor the image\n",
    "        image = cv2.cvtColor(frame, cv2.COLOR_BGR2RGB)\n",
    "        image.flags.writeable = False\n",
    "        results = pose.process(image)\n",
    "        \n",
    "        image.flags.writeable = True\n",
    "        image = cv2.cvtColor(image, cv2.COLOR_RGB2BGR)\n",
    "        \n",
    "        # Extract the landmarks\n",
    "        if results.pose_landmarks:\n",
    "            landmarks = results.pose_landmarks.landmark\n",
    "            \n",
    "            # Draw specific landmarks and connections\n",
    "            for connection in CONNECTIONS:\n",
    "                start = connection[0].value\n",
    "                end = connection[1].value\n",
    "                # Get the start and end landmark positions\n",
    "                start_landmark = landmarks[start]\n",
    "                end_landmark = landmarks[end]\n",
    "                \n",
    "                # Draw circle for the landmarks\n",
    "                cv2.circle(image, (int(start_landmark.x * 640), int(start_landmark.y * 480)), 5, (245, 117, 66), -1)\n",
    "                cv2.circle(image, (int(end_landmark.x * 640), int(end_landmark.y * 480)), 5, (245, 117, 66), -1)\n",
    "                \n",
    "                # Draw line for the connection\n",
    "                cv2.line(image,\n",
    "                         (int(start_landmark.x * 640), int(start_landmark.y * 480)),\n",
    "                         (int(end_landmark.x * 640), int(end_landmark.y * 480)),\n",
    "                         (245, 66, 230), 2)\n",
    "            \n",
    "            # Calculate and display the angle\n",
    "            shoulder = [landmarks[mp_pose.PoseLandmark.RIGHT_SHOULDER.value].x, landmarks[mp_pose.PoseLandmark.RIGHT_SHOULDER.value].y]\n",
    "            elbow = [landmarks[mp_pose.PoseLandmark.RIGHT_ELBOW.value].x, landmarks[mp_pose.PoseLandmark.RIGHT_ELBOW.value].y]\n",
    "            wrist = [landmarks[mp_pose.PoseLandmark.RIGHT_WRIST.value].x, landmarks[mp_pose.PoseLandmark.RIGHT_WRIST.value].y]\n",
    "            angle = calculate_angle(shoulder, elbow, wrist)\n",
    "            cv2.putText(image, str(angle),\n",
    "                        tuple(np.multiply(elbow, [640, 480]).astype(int)),\n",
    "                        cv2.FONT_HERSHEY_SIMPLEX, 0.5, (255, 255, 255), 2, cv2.LINE_AA)\n",
    "\n",
    "        cv2.imshow('Mediapipe Feed', image)\n",
    "        \n",
    "        if cv2.waitKey(10) & 0xFF == ord('q'):\n",
    "            break\n",
    "\n",
    "    cap.release()\n",
    "    cv2.destroyAllWindows()"
   ]
  },
  {
   "cell_type": "code",
   "execution_count": null,
   "id": "730a7863-72f0-46b2-b2aa-99d86379bac7",
   "metadata": {},
   "outputs": [],
   "source": []
  },
  {
   "cell_type": "code",
   "execution_count": null,
   "id": "2f70dadf-e126-42f7-b201-90b018a517a4",
   "metadata": {},
   "outputs": [],
   "source": []
  }
 ],
 "metadata": {
  "kernelspec": {
   "display_name": "Python 3 (ipykernel)",
   "language": "python",
   "name": "python3"
  },
  "language_info": {
   "codemirror_mode": {
    "name": "ipython",
    "version": 3
   },
   "file_extension": ".py",
   "mimetype": "text/x-python",
   "name": "python",
   "nbconvert_exporter": "python",
   "pygments_lexer": "ipython3",
   "version": "3.12.4"
  }
 },
 "nbformat": 4,
 "nbformat_minor": 5
}
